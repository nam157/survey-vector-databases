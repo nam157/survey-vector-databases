{
 "cells": [
  {
   "cell_type": "code",
   "execution_count": 12,
   "id": "da3e77a5",
   "metadata": {},
   "outputs": [],
   "source": [
    "from pymilvus import connections, db\n",
    "from pymilvus import CollectionSchema, FieldSchema, DataType, Collection\n",
    "\n",
    "conn = connections.connect(host=\"127.0.0.1\", port=19530)\n",
    "# database = db.create_database(\"faceid_test\")\n",
    "db.using_database(\"faceid_test\")"
   ]
  },
  {
   "cell_type": "code",
   "execution_count": 16,
   "id": "0d0acc69",
   "metadata": {},
   "outputs": [],
   "source": [
    "def create_collection(collection_name,dimensions):\n",
    "    code = FieldSchema(\n",
    "        name=\"ID\",\n",
    "        dtype=DataType.VARCHAR,\n",
    "        max_length=100,\n",
    "        is_primary=True,\n",
    "    )\n",
    "    name = FieldSchema(\n",
    "        name=\"Name_ID\",\n",
    "        dtype=DataType.VARCHAR,\n",
    "        max_length=200,\n",
    "    )\n",
    "    department = FieldSchema(\n",
    "        name=\"Department\",\n",
    "        dtype=DataType.VARCHAR,\n",
    "        max_length=200,\n",
    "    )\n",
    "    vn_name = FieldSchema(\n",
    "        name=\"Name_VN\",\n",
    "        dtype=DataType.VARCHAR,\n",
    "        max_length=200,\n",
    "    )\n",
    "    embedder = FieldSchema(\n",
    "        name=\"Embeddings\", dtype=DataType.FLOAT_VECTOR, dim=dimensions\n",
    "    )\n",
    "    schema = CollectionSchema(\n",
    "        fields=[code, name, department, vn_name, embedder],\n",
    "        description=\"test\",\n",
    "        enable_dynamic_field=True,\n",
    "    )\n",
    "    \n",
    "    collection = Collection(\n",
    "        name=collection_name, schema=schema, using=\"default\", shards_num=2\n",
    "    )\n",
    "    return collection\n"
   ]
  },
  {
   "cell_type": "code",
   "execution_count": 17,
   "id": "7fd30884",
   "metadata": {},
   "outputs": [],
   "source": [
    "def drop_collection(name):\n",
    "    collection = Collection(name)\n",
    "    collection.drop()\n",
    "    print(\"\\nDrop collection: {}\".format(name))"
   ]
  },
  {
   "cell_type": "code",
   "execution_count": 18,
   "id": "cf1d8348",
   "metadata": {},
   "outputs": [],
   "source": [
    "collection = create_collection(\"test\",512)"
   ]
  },
  {
   "cell_type": "code",
   "execution_count": 20,
   "id": "f528eddd",
   "metadata": {},
   "outputs": [],
   "source": [
    "import csv\n",
    "from typing import Dict, List"
   ]
  },
  {
   "cell_type": "code",
   "execution_count": 21,
   "id": "b30bf359",
   "metadata": {},
   "outputs": [
    {
     "name": "stdout",
     "output_type": "stream",
     "text": [
      "[{'Name_ID': 'Nguyễn_Văn_Thiên_NS0110_PVHHT_ICARE', 'ID': 'NS0110', 'Name_VN': 'Nguyễn Văn Thiên', 'Department': 'PVHHT_ICARE'}, {'Name_ID': 'Trần_Quang_Duy_NS0174_PM_SDS', 'ID': 'NS0174', 'Name_VN': 'Trần Quang Duy', 'Department': 'PM_SDS'}]\n"
     ]
    }
   ],
   "source": [
    "with open(\"./namelists.csv\", encoding=\"utf8\") as f:\n",
    "    reader = csv.DictReader(f)\n",
    "    members: List[Dict[str, str]] = [row for row in reader]\n",
    "    print(members)"
   ]
  },
  {
   "cell_type": "code",
   "execution_count": 24,
   "id": "7649a9b0",
   "metadata": {},
   "outputs": [
    {
     "name": "stdout",
     "output_type": "stream",
     "text": [
      "NS0110\n",
      "NS0174\n"
     ]
    }
   ],
   "source": [
    "for member in members:\n",
    "    name = member.get(\"Name_ID\")\n",
    "    code = member.get(\"ID\")\n",
    "    vn_name = member.get(\"Name_VN\")\n",
    "    department = member.get(\"Department\")\n",
    "    \n",
    "    collection.construct_from_dataframe"
   ]
  },
  {
   "cell_type": "code",
   "execution_count": 25,
   "id": "cbaf4af2",
   "metadata": {},
   "outputs": [],
   "source": [
    "import pandas as pd"
   ]
  },
  {
   "cell_type": "code",
   "execution_count": 27,
   "id": "17cbc249",
   "metadata": {},
   "outputs": [
    {
     "data": {
      "text/plain": [
       "'{\"Name_ID\":{\"0\":\"Nguy\\\\u1ec5n_V\\\\u0103n_Thi\\\\u00ean_NS0110_PVHHT_ICARE\",\"1\":\"Tr\\\\u1ea7n_Quang_Duy_NS0174_PM_SDS\"},\"ID\":{\"0\":\"NS0110\",\"1\":\"NS0174\"},\"Name_VN\":{\"0\":\"Nguy\\\\u1ec5n V\\\\u0103n Thi\\\\u00ean\",\"1\":\"Tr\\\\u1ea7n Quang Duy\"},\"Department\":{\"0\":\"PVHHT_ICARE\",\"1\":\"PM_SDS\"}}'"
      ]
     },
     "execution_count": 27,
     "metadata": {},
     "output_type": "execute_result"
    }
   ],
   "source": [
    "pd.read_csv(\"./namelists.csv\").to_json()"
   ]
  },
  {
   "cell_type": "code",
   "execution_count": null,
   "id": "342bda5c",
   "metadata": {},
   "outputs": [],
   "source": []
  }
 ],
 "metadata": {
  "kernelspec": {
   "display_name": "Python 3 (ipykernel)",
   "language": "python",
   "name": "python3"
  },
  "language_info": {
   "codemirror_mode": {
    "name": "ipython",
    "version": 3
   },
   "file_extension": ".py",
   "mimetype": "text/x-python",
   "name": "python",
   "nbconvert_exporter": "python",
   "pygments_lexer": "ipython3",
   "version": "3.9.16"
  }
 },
 "nbformat": 4,
 "nbformat_minor": 5
}
