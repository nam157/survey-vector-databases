{
 "cells": [
  {
   "cell_type": "code",
   "execution_count": 2,
   "id": "f39e4c17",
   "metadata": {},
   "outputs": [],
   "source": [
    "from pymilvus import connections, db\n",
    "\n",
    "conn = connections.connect(host=\"127.0.0.1\", port=19530)\n",
    "\n",
    "# database = db.create_database(\"faceid\")"
   ]
  },
  {
   "cell_type": "code",
   "execution_count": 3,
   "id": "1254013f",
   "metadata": {},
   "outputs": [
    {
     "name": "stdout",
     "output_type": "stream",
     "text": [
      "['default', 'faceid_test', 'faceid']\n",
      "['default', 'faceid_test', 'faceid']\n"
     ]
    }
   ],
   "source": [
    "print(db.list_database())\n",
    "db.drop_database(\"books\")\n",
    "print(db.list_database())"
   ]
  },
  {
   "cell_type": "code",
   "execution_count": 4,
   "id": "fc4e387f",
   "metadata": {},
   "outputs": [],
   "source": [
    "db.using_database(\"faceid\")"
   ]
  },
  {
   "cell_type": "markdown",
   "id": "34a500bc",
   "metadata": {},
   "source": [
    "## create collection"
   ]
  },
  {
   "cell_type": "markdown",
   "id": "c76f98b3",
   "metadata": {},
   "source": [
    "### Prepare Schema"
   ]
  },
  {
   "cell_type": "code",
   "execution_count": 5,
   "id": "ba529436",
   "metadata": {},
   "outputs": [],
   "source": [
    "from pymilvus import CollectionSchema, FieldSchema, DataType"
   ]
  },
  {
   "cell_type": "code",
   "execution_count": 6,
   "id": "016f8337",
   "metadata": {},
   "outputs": [],
   "source": [
    "_code = FieldSchema(\n",
    "    name=\"ID\", \n",
    "    dtype=DataType.VARCHAR,\n",
    "    max_length=100,\n",
    "    is_primary=True,\n",
    ")\n",
    "_name = FieldSchema(\n",
    "    name = \"Name_ID\",\n",
    "    dtype=DataType.VARCHAR,\n",
    "    max_length=200,\n",
    ")\n",
    "_department = FieldSchema(\n",
    "    name=\"Department\", \n",
    "    dtype=DataType.VARCHAR,\n",
    "    max_length=200,\n",
    ")\n",
    "_vn_name = FieldSchema(\n",
    "    name = \"Name_VN\",\n",
    "    dtype=DataType.VARCHAR,\n",
    "    max_length=200,\n",
    ")\n",
    "_embedder = FieldSchema(\n",
    "    name=\"Embeddings\", \n",
    "    dtype=DataType.FLOAT_VECTOR, \n",
    "    dim=8\n",
    ")"
   ]
  },
  {
   "cell_type": "code",
   "execution_count": 7,
   "id": "49939284",
   "metadata": {},
   "outputs": [],
   "source": [
    "schema = CollectionSchema(\n",
    "  fields=[_code, _name,_department,_vn_name,_embedder],\n",
    "  description=\"Faceid search\",\n",
    "  enable_dynamic_field=True\n",
    ")"
   ]
  },
  {
   "cell_type": "code",
   "execution_count": 8,
   "id": "e8e1bac8",
   "metadata": {},
   "outputs": [
    {
     "data": {
      "text/plain": [
       "{'auto_id': False, 'description': 'Faceid search', 'fields': [{'name': 'ID', 'description': '', 'type': <DataType.VARCHAR: 21>, 'params': {'max_length': 100}, 'is_primary': True, 'auto_id': False}, {'name': 'Name_ID', 'description': '', 'type': <DataType.VARCHAR: 21>, 'params': {'max_length': 200}}, {'name': 'Department', 'description': '', 'type': <DataType.VARCHAR: 21>, 'params': {'max_length': 200}}, {'name': 'Name_VN', 'description': '', 'type': <DataType.VARCHAR: 21>, 'params': {'max_length': 200}}, {'name': 'Embeddings', 'description': '', 'type': <DataType.FLOAT_VECTOR: 101>, 'params': {'dim': 8}}], 'enable_dynamic_field': True}"
      ]
     },
     "execution_count": 8,
     "metadata": {},
     "output_type": "execute_result"
    }
   ],
   "source": [
    "schema"
   ]
  },
  {
   "cell_type": "markdown",
   "id": "4e34aca5",
   "metadata": {},
   "source": [
    "## Create a collection with the schema"
   ]
  },
  {
   "cell_type": "code",
   "execution_count": 9,
   "id": "e23cc7e4",
   "metadata": {},
   "outputs": [],
   "source": [
    "from pymilvus import utility\n",
    "utility.drop_collection(\"faceid_collection\")"
   ]
  },
  {
   "cell_type": "code",
   "execution_count": 10,
   "id": "bc6488ef",
   "metadata": {},
   "outputs": [],
   "source": [
    "from pymilvus import Collection\n",
    "\n",
    "collection_name = \"faceid_collection\"\n",
    "\n",
    "collection = Collection(\n",
    "    name=collection_name,\n",
    "    schema=schema,\n",
    "    using='default',\n",
    "    shards_num=2\n",
    "    )"
   ]
  },
  {
   "cell_type": "code",
   "execution_count": 10,
   "id": "5e884855",
   "metadata": {},
   "outputs": [
    {
     "data": {
      "text/plain": [
       "<Collection>:\n",
       "-------------\n",
       "<name>: faceid_collection\n",
       "<description>: Faceid search\n",
       "<schema>: {'auto_id': False, 'description': 'Faceid search', 'fields': [{'name': 'ID', 'description': '', 'type': <DataType.VARCHAR: 21>, 'params': {'max_length': 100}, 'is_primary': True, 'auto_id': False}, {'name': 'Name_ID', 'description': '', 'type': <DataType.VARCHAR: 21>, 'params': {'max_length': 200}}, {'name': 'Department', 'description': '', 'type': <DataType.VARCHAR: 21>, 'params': {'max_length': 200}}, {'name': 'Name_VN', 'description': '', 'type': <DataType.VARCHAR: 21>, 'params': {'max_length': 200}}, {'name': 'Embeddings', 'description': '', 'type': <DataType.FLOAT_VECTOR: 101>, 'params': {'dim': 8}}], 'enable_dynamic_field': True}"
      ]
     },
     "execution_count": 10,
     "metadata": {},
     "output_type": "execute_result"
    }
   ],
   "source": [
    "collection"
   ]
  },
  {
   "cell_type": "markdown",
   "id": "b2e60815",
   "metadata": {},
   "source": [
    "## Inserts vectors in the collection:"
   ]
  },
  {
   "cell_type": "code",
   "execution_count": 11,
   "id": "ec6b8188",
   "metadata": {},
   "outputs": [],
   "source": [
    "import csv\n",
    "from typing import Dict, List"
   ]
  },
  {
   "cell_type": "code",
   "execution_count": 12,
   "id": "fdc3760a",
   "metadata": {},
   "outputs": [
    {
     "name": "stdout",
     "output_type": "stream",
     "text": [
      "[{'Name_ID': 'Nguyễn_Văn_Thiên_NS0110_PVHHT_ICARE', 'ID': 'NS0110', 'Name_VN': 'Nguyễn Văn Thiên', 'Department': 'PVHHT_ICARE'}, {'Name_ID': 'Trần_Quang_Duy_NS0174_PM_SDS', 'ID': 'NS0174', 'Name_VN': 'Trần Quang Duy', 'Department': 'PM_SDS'}]\n"
     ]
    }
   ],
   "source": [
    "with open(\"./namelists.csv\", encoding=\"utf8\") as f:\n",
    "    reader = csv.DictReader(f)\n",
    "    members: List[Dict[str, str]] = [row for row in reader]\n",
    "    print(members)"
   ]
  },
  {
   "cell_type": "code",
   "execution_count": 13,
   "id": "2547a594",
   "metadata": {},
   "outputs": [],
   "source": [
    "from pymilvus import Collection\n",
    "collection = Collection(\"faceid_collection\")"
   ]
  },
  {
   "cell_type": "code",
   "execution_count": 22,
   "id": "4d9374fe",
   "metadata": {},
   "outputs": [
    {
     "data": {
      "text/plain": [
       "[[0.33355039700297895,\n",
       "  0.2209422033993741,\n",
       "  0.24411143132708624,\n",
       "  0.784794741706548,\n",
       "  0.02315318035210223],\n",
       " [0.0005815413143029913,\n",
       "  0.21328311446482218,\n",
       "  0.6760600800138975,\n",
       "  0.1732470193501403,\n",
       "  0.07503795732906815]]"
      ]
     },
     "execution_count": 22,
     "metadata": {},
     "output_type": "execute_result"
    }
   ],
   "source": [
    "import random\n",
    "[[random.random() for _ in range(5)] for _ in range(2)]"
   ]
  },
  {
   "cell_type": "code",
   "execution_count": 25,
   "id": "02c79918",
   "metadata": {},
   "outputs": [],
   "source": [
    "entities = [\n",
    "    [\"NS0110\",\"NS0174\"],\n",
    "    [\"Nguyễn_Văn_Thiên_NS0110_PVHHT_ICARE\",\"Trần_Quang_Duy_NS0174_PM_SDS\"],\n",
    "    [\"PVHHT_ICARE\",\"PM_SDS\"],\n",
    "    [\"Nguyễn Văn Thiên\",\"Trần Quang Duy\"],\n",
    "    [[random.random() for _ in range(8)] for _ in range(2)]\n",
    "]"
   ]
  },
  {
   "cell_type": "code",
   "execution_count": 26,
   "id": "bd25d9bb",
   "metadata": {},
   "outputs": [
    {
     "data": {
      "text/plain": [
       "(insert count: 2, delete count: 0, upsert count: 0, timestamp: 442030278610780163, success count: 2, err count: 0)"
      ]
     },
     "execution_count": 26,
     "metadata": {},
     "output_type": "execute_result"
    }
   ],
   "source": [
    "collection.insert(entities)"
   ]
  },
  {
   "cell_type": "code",
   "execution_count": 31,
   "id": "dcddda48",
   "metadata": {},
   "outputs": [],
   "source": [
    "collection.flush()  "
   ]
  },
  {
   "cell_type": "code",
   "execution_count": 34,
   "id": "46e15151",
   "metadata": {},
   "outputs": [
    {
     "data": {
      "text/plain": [
       "Status(code=0, message=)"
      ]
     },
     "execution_count": 34,
     "metadata": {},
     "output_type": "execute_result"
    }
   ],
   "source": [
    "index = {\n",
    "    \"index_type\": \"IVF_FLAT\",\n",
    "    \"metric_type\": \"L2\",\n",
    "    \"params\": {\"nlist\": 128},\n",
    "}\n",
    "collection.create_index(\"Embeddings\", index)"
   ]
  },
  {
   "cell_type": "code",
   "execution_count": 37,
   "id": "bc8ed005",
   "metadata": {},
   "outputs": [
    {
     "data": {
      "text/plain": [
       "[[0.6443051335990972,\n",
       "  0.1429983423274741,\n",
       "  0.2999680385381044,\n",
       "  0.7486099005179897,\n",
       "  0.42066033652851087,\n",
       "  0.38525663634419605,\n",
       "  0.16433232963295763,\n",
       "  0.6314241382886112]]"
      ]
     },
     "execution_count": 37,
     "metadata": {},
     "output_type": "execute_result"
    }
   ],
   "source": [
    "collection.load()\n",
    "vectors_to_search = entities[-1][-1:]\n",
    "vectors_to_search"
   ]
  },
  {
   "cell_type": "code",
   "execution_count": 39,
   "id": "6798ab50",
   "metadata": {},
   "outputs": [],
   "source": [
    "\n",
    "search_params = {\n",
    "    \"metric_type\": \"L2\",\n",
    "    \"params\": {\"nprobe\": 12},\n",
    "}\n",
    "results = collection.search(vectors_to_search, \"Embeddings\", search_params, limit=5, output_fields=[\"Code\",\"Name_VN\"])"
   ]
  },
  {
   "cell_type": "code",
   "execution_count": 40,
   "id": "3afa3fb1",
   "metadata": {},
   "outputs": [
    {
     "name": "stdout",
     "output_type": "stream",
     "text": [
      "\n",
      "Search result for 0th vector: \n",
      "Top 0: id: NS0174, distance: 0.0, entity: {'Name_VN': 'Trần Quang Duy'}\n",
      "Top 1: id: NS0110, distance: 1.3214890956878662, entity: {'Name_VN': 'Nguyễn Văn Thiên'}\n"
     ]
    }
   ],
   "source": [
    "for i, result in enumerate(results):\n",
    "    print(\"\\nSearch result for {}th vector: \".format(i))\n",
    "    for j, res in enumerate(result):\n",
    "        print(\"Top {}: {}\".format(j, res))"
   ]
  },
  {
   "cell_type": "code",
   "execution_count": null,
   "id": "5244e4df",
   "metadata": {},
   "outputs": [],
   "source": []
  },
  {
   "cell_type": "code",
   "execution_count": null,
   "id": "e26f6c7d",
   "metadata": {},
   "outputs": [],
   "source": []
  }
 ],
 "metadata": {
  "kernelspec": {
   "display_name": "Python 3 (ipykernel)",
   "language": "python",
   "name": "python3"
  },
  "language_info": {
   "codemirror_mode": {
    "name": "ipython",
    "version": 3
   },
   "file_extension": ".py",
   "mimetype": "text/x-python",
   "name": "python",
   "nbconvert_exporter": "python",
   "pygments_lexer": "ipython3",
   "version": "3.9.16"
  }
 },
 "nbformat": 4,
 "nbformat_minor": 5
}
